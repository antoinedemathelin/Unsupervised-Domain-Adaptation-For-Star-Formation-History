{
 "cells": [
  {
   "cell_type": "markdown",
   "metadata": {
    "id": "rAdO88Ge0puU"
   },
   "source": [
    "# Unsupervised Domain Adaptation (UDA) for Constraining Star Formation Histories."
   ]
  },
  {
   "cell_type": "markdown",
   "metadata": {},
   "source": [
    "This notebook presents the experiments of the paper [Unsupervised Domain Adaptation for Constraining Star Formation Histories](https://arxiv.org/abs/2112.14072).\n",
    "\n",
    "The used datasets are provided in the `datasets` folder. Several UDA methods from the [adapt](https://github.com/adapt-python/adapt) library have been evaluated:\n",
    "\n",
    "- KMM\n",
    "- KLIEP\n",
    "- CORAL\n",
    "- DeepCORAL\n",
    "- DANN\n",
    "- MDD"
   ]
  },
  {
   "cell_type": "markdown",
   "metadata": {
    "id": "W-mNuBXU2KdT"
   },
   "source": [
    "## Imports"
   ]
  },
  {
   "cell_type": "code",
   "execution_count": 1,
   "metadata": {
    "executionInfo": {
     "elapsed": 3974,
     "status": "ok",
     "timestamp": 1622703844024,
     "user": {
      "displayName": "antoine de mathelin",
      "photoUrl": "",
      "userId": "13671502497909066156"
     },
     "user_tz": -120
    },
    "id": "V8Fddt4dNZDH"
   },
   "outputs": [],
   "source": [
    "import pandas as pd\n",
    "import numpy as np\n",
    "import matplotlib.pyplot as plt\n",
    "from sklearn.decomposition import KernelPCA\n",
    "from sklearn.preprocessing import StandardScaler\n",
    "from sklearn.metrics import mean_absolute_error\n",
    "\n",
    "from tensorflow.keras.wrappers.scikit_learn import KerasRegressor\n",
    "import tensorflow as tf\n",
    "import tensorflow.keras.backend as K\n",
    "from tensorflow.keras import Sequential\n",
    "from tensorflow.keras.layers import Input, Dense\n",
    "from tensorflow.keras.optimizers import Adam\n",
    "from tensorflow.keras.callbacks import Callback, ModelCheckpoint\n",
    "\n",
    "from adapt.instance_based import KMM, KLIEP\n",
    "from adapt.feature_based import CORAL, DANN, DeepCORAL, MDD, ADDA"
   ]
  },
  {
   "cell_type": "markdown",
   "metadata": {},
   "source": [
    "## Define a custom train_test_split function\n",
    "\n",
    "We use a custom split, implemented in the function `custom_train_test_split`, to split the dataset in a training and validation sets with same output distributions"
   ]
  },
  {
   "cell_type": "code",
   "execution_count": 2,
   "metadata": {},
   "outputs": [],
   "source": [
    "def chunkify(seq, num):\n",
    "    avg = len(seq) / float(num)\n",
    "    out = []\n",
    "    last = 0.0\n",
    "    while last < len(seq):\n",
    "        out.append(seq[int(last):int(last + avg)])\n",
    "        last += avg\n",
    "    return out\n",
    "\n",
    "\n",
    "def custom_train_test_split(y, nfolds=5):\n",
    "    to_return = []\n",
    "    folds =  [[] for i in range(nfolds)]\n",
    "    #\n",
    "    y_idx = np.argsort(y)\n",
    "    n_bins = np.ceil(len(y)/nfolds)\n",
    "    #\n",
    "    q = chunkify(y_idx, n_bins)\n",
    "    #\n",
    "    for sub_arr in q:\n",
    "        sub_arr_shuffled = np.random.choice(sub_arr, size=len(sub_arr), replace=False)\n",
    "        for i in range(len(sub_arr)):\n",
    "            folds[i].append(sub_arr_shuffled[i])\n",
    "    #\n",
    "    for i in range(nfolds):\n",
    "        q = list(np.arange(nfolds))\n",
    "        test_idx_meta = q.pop(i)\n",
    "        train_idx_meta = q\n",
    "        train_idx = []\n",
    "        test_idx = folds[i]\n",
    "        for j in train_idx_meta:\n",
    "            train_idx.extend(folds[j])\n",
    "        to_return.append((train_idx, test_idx))\n",
    "    return to_return"
   ]
  },
  {
   "cell_type": "markdown",
   "metadata": {
    "id": "-RzQ5_h02QfM"
   },
   "source": [
    "## Load Datasets\n",
    "\n",
    "The three datasets : SIMBA, EAGLE, TNG correspond to three different simulations of the stars formation in the universe."
   ]
  },
  {
   "cell_type": "code",
   "execution_count": 3,
   "metadata": {
    "executionInfo": {
     "elapsed": 181,
     "status": "ok",
     "timestamp": 1622703885551,
     "user": {
      "displayName": "antoine de mathelin",
      "photoUrl": "",
      "userId": "13671502497909066156"
     },
     "user_tz": -120
    },
    "id": "XzCgd26LOoYo"
   },
   "outputs": [],
   "source": [
    "datasets_path = \"datasets/\"\n",
    "\n",
    "flux_filename_simbaz0 = datasets_path+'simba_z=0.0_flux.csv'\n",
    "flux_filename_eaglez0 = datasets_path+'eagle_z=0.0_flux.csv'\n",
    "flux_filename_tngz0 = datasets_path+'tng_z=0.0_flux.csv'\n",
    "\n",
    "sfh_filename_simbaz0 = datasets_path+'simba_z=0.0_sfh.csv'\n",
    "sfh_filename_eaglez0 = datasets_path+'eagle_z=0.0_sfh.csv'\n",
    "sfh_filename_tngz0 = datasets_path+'tng_z=0.0_sfh.csv'"
   ]
  },
  {
   "cell_type": "code",
   "execution_count": 4,
   "metadata": {},
   "outputs": [],
   "source": [
    "flux_simbaz0 = pd.read_csv(flux_filename_simbaz0, index_col=0)\n",
    "flux_eaglez0 = pd.read_csv(flux_filename_eaglez0, index_col=0)\n",
    "flux_tngz0 = pd.read_csv(flux_filename_tngz0, index_col=0)\n",
    "sfh_simbaz0 = pd.read_csv(sfh_filename_simbaz0, index_col=0)\n",
    "sfh_eaglez0 = pd.read_csv(sfh_filename_eaglez0, index_col=0)\n",
    "sfh_tngz0 = pd.read_csv(sfh_filename_tngz0, index_col=0)\n",
    "\n",
    "dict_X = {\"simba\": flux_simbaz0, \"eagle\": flux_eaglez0, \"tng\": flux_tngz0}\n",
    "dict_y_sfh = {\"simba\": sfh_simbaz0, \"eagle\": sfh_eaglez0, \"tng\": sfh_tngz0}"
   ]
  },
  {
   "cell_type": "markdown",
   "metadata": {},
   "source": [
    "The X datasets correspond to 21 features of stellar radiation anf the y dataset is the corresponding history of the star mass on 29 time steps."
   ]
  },
  {
   "cell_type": "code",
   "execution_count": 5,
   "metadata": {},
   "outputs": [
    {
     "name": "stdout",
     "output_type": "stream",
     "text": [
      "Domain simba - n_samples : 1688\n",
      "Domain tng - n_samples : 9633\n",
      "Domain eagle - n_samples : 4697\n",
      "X shape: (16018, 21), y shape: (16018, 29)\n"
     ]
    }
   ],
   "source": [
    "X_base = np.empty((0, dict_X[\"simba\"].shape[1]))\n",
    "y_mass = np.empty((0,))\n",
    "y_true = np.empty((0, dict_y_sfh[\"simba\"].shape[1]))\n",
    "indexes = {}\n",
    "sub_indexes = {}\n",
    "length = 0\n",
    "\n",
    "for k in [\"simba\", \"tng\", \"eagle\"]:\n",
    "    X_base = np.concatenate((X_base, dict_X[k]))\n",
    "    y_true = np.concatenate((y_true, dict_y_sfh[k]))\n",
    "    indexes[k] = np.arange(len(dict_X[k])) + length\n",
    "    length += len(dict_X[k])\n",
    "    print(\"Domain %s - n_samples : %i\"%(k, len(dict_X[k])))\n",
    "    \n",
    "print(\"X shape: %s, y shape: %s\"%(str(X_base.shape), str(y_true.shape)))"
   ]
  },
  {
   "cell_type": "markdown",
   "metadata": {
    "id": "ryJO2SN3UpCj"
   },
   "source": [
    "# Experiments\n",
    "\n",
    "Choose the target between `eagle`, `simba` and `tng`. The data from the target simulation will form the unlabeled dataset, whereas the data from the two other simulations will serve as source labeled dataset."
   ]
  },
  {
   "cell_type": "code",
   "execution_count": null,
   "metadata": {
    "colab": {
     "base_uri": "https://localhost:8080/"
    },
    "executionInfo": {
     "elapsed": 195,
     "status": "ok",
     "timestamp": 1622705706512,
     "user": {
      "displayName": "antoine de mathelin",
      "photoUrl": "",
      "userId": "13671502497909066156"
     },
     "user_tz": -120
    },
    "id": "rBcekwofUzr4",
    "outputId": "0e84fe17-8a2c-4191-de49-097836c9d3c0"
   },
   "outputs": [],
   "source": []
  },
  {
   "cell_type": "code",
   "execution_count": 11,
   "metadata": {},
   "outputs": [
    {
     "name": "stdout",
     "output_type": "stream",
     "text": [
      "TARGET = simba\n",
      "SOURCES = eagle + tng\n"
     ]
    }
   ],
   "source": [
    "TARGET = \"simba\"\n",
    "SOURCES = [\"simba\", \"eagle\", \"tng\"]\n",
    "SOURCES.remove(TARGET)\n",
    "\n",
    "print(\"TARGET = %s\\nSOURCES = %s + %s\"%(TARGET, SOURCES[0], SOURCES[1]))"
   ]
  },
  {
   "cell_type": "markdown",
   "metadata": {},
   "source": [
    "## 1. Hyper-parameters\n",
    "\n",
    "We set here the hyper-parameters used in the experiments"
   ]
  },
  {
   "cell_type": "code",
   "execution_count": 12,
   "metadata": {},
   "outputs": [],
   "source": [
    "# List of models \n",
    "method_list = [\"Base\", \"KLIEP\", \"KMM\", \"CORAL\", \"DeepCORAL\", \"DANN\", \"MDD\"]\n",
    "\n",
    "# Number of components of the kernel PCA reduction applied on y\n",
    "kpca_nb_components = 3\n",
    "\n",
    "# Bandwidth of the Gaussian kernel of the kernel PCA\n",
    "kpca_gamma = 3.\n",
    "\n",
    "# Number of Repetition of the experiment\n",
    "n_models = 1\n",
    "\n",
    "# List of kernel bandwidth for KLIEP model (KLIEP will perform an UDA cross-val to select one sigma)\n",
    "kliep_sigmas = [0.01, 0.1, 0.5, 1, 2]\n",
    "\n",
    "# Optimization parameters for KLIEP\n",
    "kliep_lr = 0.0001\n",
    "kliep_max_iter = 1000\n",
    "\n",
    "# Kernel bandwidth of the KMM model\n",
    "kmm_gamma = 0.01\n",
    "\n",
    "# KMM max size\n",
    "kmm_max_size = 2000\n",
    "\n",
    "# Trade-Off parameter of the CORAL model (higher values imply less adaptation)\n",
    "coral_lambda = 1e-5\n",
    "\n",
    "# Trade-Off parameter of the DANN model (higher values imply more adaptation)\n",
    "dann_lambda = 0.01\n",
    "\n",
    "# Trade-Off parameter of the DeepCORAL model (higher values imply more adaptation)\n",
    "deepcoral_lambda = 10000\n",
    "\n",
    "# Trade-Off parameter of the MDD model (higher values imply more adaptation)\n",
    "mdd_lambda = 0.000001\n",
    "\n",
    "# Learning rate for the network learning the scale of y\n",
    "lr_scale = 0.0005\n",
    "\n",
    "# Learning rate for the network learning the kernel PCA components of y\n",
    "lr_kpca = 0.0001\n",
    "\n",
    "# Fit parameters for the network learning the scale of y\n",
    "fit_params_sum = dict(\n",
    "epochs=500,\n",
    "batch_size=128,\n",
    "verbose=0,\n",
    ")\n",
    "\n",
    "# Fit parameters for the network learning the kernel PCA components of y\n",
    "fit_params_pca = dict(\n",
    "epochs=500,\n",
    "batch_size=128,\n",
    "verbose=0,\n",
    ")"
   ]
  },
  {
   "cell_type": "markdown",
   "metadata": {
    "id": "cEhvUTBdyAME"
   },
   "source": [
    "## 2. Preprocessing\n",
    "\n",
    "The stellar radiation in X are log scaled then standard scaled. The star formation history y are first scaled by their individual sum and then reduce to their n first kPCA components. The kPCA reduction ease the learning of y based on the X features. A scaling of y is needed before because some y have an important scale compared to others and then may drive most of the kPCA reduction.\n",
    "\n",
    "At the end, the learner have to learn `1+kpca_nb_components` values, i.e. the scale of y and the n components of the kPCA"
   ]
  },
  {
   "cell_type": "code",
   "execution_count": 13,
   "metadata": {
    "executionInfo": {
     "elapsed": 777,
     "status": "ok",
     "timestamp": 1622711790883,
     "user": {
      "displayName": "antoine de mathelin",
      "photoUrl": "",
      "userId": "13671502497909066156"
     },
     "user_tz": -120
    },
    "id": "8NZmubZ4Uf5j"
   },
   "outputs": [],
   "source": [
    "# Set index for source and target sample\n",
    "src_index = np.concatenate([indexes[k] for k in SOURCES])\n",
    "tgt_index = np.concatenate([indexes[k] for k in [TARGET]])\n",
    "\n",
    "# Rescale X features (first log transformation, then scaling based of source scales)\n",
    "X = np.log10(X_base+1)\n",
    "std_sc = StandardScaler()\n",
    "std_sc.fit(X[src_index])\n",
    "X = std_sc.transform(X)\n",
    "\n",
    "# Scaling y\n",
    "y = np.copy(y_true)\n",
    "y_sum = y.sum(1)\n",
    "y /= y_sum.reshape(-1, 1)\n",
    "\n",
    "# Reduce y to 3 components of the kernel PCA\n",
    "kpca = KernelPCA(kpca_nb_components, gamma=kpca_gamma, fit_inverse_transform=True, kernel='rbf')\n",
    "kpca.fit(y[src_index])\n",
    "y_pca = kpca.transform(y)\n",
    "\n",
    "# Converting function\n",
    "def convert_y(yp_pca, yp_sum):\n",
    "    yp = kpca.inverse_transform(yp_pca)\n",
    "    yp *= yp_sum.reshape(-1, 1)\n",
    "    return yp\n",
    "\n",
    "# Compute the reconstruction of the true data\n",
    "y_conv = convert_y(y_pca, y_sum)"
   ]
  },
  {
   "cell_type": "markdown",
   "metadata": {},
   "source": [
    "## 3. Network Architecture and loss\n",
    "\n",
    "Two networks are needed, one to learn the scale and the other to learn the kPCA components. For each network an `encoder` and `task` part are defined for the deep learning domain adaptation models DANN, MDD and DeepCORAL. Finally, we use a custom loss for the kPCA network which give more importance the most important eigen values of the decomposition (`kpca.lambdas_`).  "
   ]
  },
  {
   "cell_type": "code",
   "execution_count": 14,
   "metadata": {},
   "outputs": [],
   "source": [
    "def custom_loss(true, pred):\n",
    "    loss = K.dot(K.square(tf.cast(true, \"float32\") - pred),\n",
    "                 tf.cast(tf.identity(kpca.lambdas_.reshape(-1, 1)), \"float32\"))\n",
    "    return tf.reduce_mean(loss)\n",
    "\n",
    "\n",
    "def get_base_model_pca():\n",
    "    model = Sequential()\n",
    "    model.add(Dense(200, activation=\"relu\"))\n",
    "    model.add(Dense(200, activation=\"relu\"))\n",
    "    model.add(Dense(200, activation=\"relu\"))\n",
    "    model.add(Dense(kpca_nb_components, activation=None))\n",
    "    model.compile(optimizer=Adam(lr_scale), loss=custom_loss)\n",
    "    return model\n",
    "\n",
    "\n",
    "def get_base_model_sum():\n",
    "    model = Sequential()\n",
    "    model.add(Dense(200, activation=\"relu\"))\n",
    "    model.add(Dense(200, activation=\"relu\"))\n",
    "    model.add(Dense(1, activation=None))\n",
    "    model.compile(optimizer=Adam(lr_kpca), loss=\"mse\")\n",
    "    return model\n",
    "\n",
    "\n",
    "def get_encoder():\n",
    "    model = Sequential()\n",
    "    model.add(Dense(200, activation=\"relu\"))\n",
    "    return model\n",
    "\n",
    "\n",
    "def get_task_sum():\n",
    "    model = Sequential()\n",
    "    model.add(Dense(200, activation=\"relu\"))\n",
    "    model.add(Dense(1, activation=None))\n",
    "    return model\n",
    "\n",
    "\n",
    "def get_task_pca():\n",
    "    model = Sequential()\n",
    "    model.add(Dense(200, activation=\"relu\"))\n",
    "    model.add(Dense(200, activation=\"relu\"))\n",
    "    model.add(Dense(kpca_nb_components, activation=None))\n",
    "    return model\n",
    "\n",
    "\n",
    "def get_discriminator(activation=\"sigmoid\"):\n",
    "    model = Sequential()\n",
    "    model.add(Dense(200, activation=\"relu\"))\n",
    "    model.add(Dense(1, activation=activation))\n",
    "    return model"
   ]
  },
  {
   "cell_type": "markdown",
   "metadata": {},
   "source": [
    "## 4. Run Experiments"
   ]
  },
  {
   "cell_type": "code",
   "execution_count": null,
   "metadata": {},
   "outputs": [
    {
     "name": "stdout",
     "output_type": "stream",
     "text": [
      "------- Model 0 --------\n",
      "Model : Base\n"
     ]
    },
    {
     "name": "stderr",
     "output_type": "stream",
     "text": [
      "C:\\Bib\\envs\\statmath38\\lib\\site-packages\\sklearn\\utils\\deprecation.py:103: FutureWarning: Attribute `lambdas_` was deprecated in version 1.0 and will be removed in 1.2. Use `eigenvalues_` instead.\n",
      "  warnings.warn(msg, category=FutureWarning)\n"
     ]
    },
    {
     "name": "stdout",
     "output_type": "stream",
     "text": [
      "Error src pca: 0.064\n",
      "Error tgt pca: 0.107\n",
      "Error src sum: 3.151\n",
      "Error tgt sum: 13.158\n"
     ]
    },
    {
     "data": {
      "image/png": "[encoded data removed]",
      "text/plain": [
       "<Figure size 432x288 with 1 Axes>"
      ]
     },
     "metadata": {
      "needs_background": "light"
     },
     "output_type": "display_data"
    },
    {
     "name": "stdout",
     "output_type": "stream",
     "text": [
      "Model : KLIEP\n",
      "Cross Validation process...\n",
      "Parameter sigma = 0.0100 -- J-score = 0.054 (0.005)\n",
      "Parameter sigma = 0.1000 -- J-score = 0.186 (0.005)\n",
      "Parameter sigma = 0.5000 -- J-score = 0.638 (0.028)\n",
      "Parameter sigma = 1.0000 -- J-score = 0.802 (0.199)\n",
      "Parameter sigma = 2.0000 -- J-score = 0.515 (0.130)\n",
      "Cross Validation process...\n",
      "Parameter sigma = 0.0100 -- J-score = 0.051 (0.003)\n",
      "Parameter sigma = 0.1000 -- J-score = 0.193 (0.042)\n",
      "Parameter sigma = 0.5000 -- J-score = 0.582 (0.099)\n",
      "Parameter sigma = 1.0000 -- J-score = 0.764 (0.074)\n",
      "Parameter sigma = 2.0000 -- J-score = 0.468 (0.226)\n"
     ]
    },
    {
     "name": "stderr",
     "output_type": "stream",
     "text": [
      "C:\\Bib\\envs\\statmath38\\lib\\site-packages\\sklearn\\utils\\deprecation.py:103: FutureWarning: Attribute `lambdas_` was deprecated in version 1.0 and will be removed in 1.2. Use `eigenvalues_` instead.\n",
      "  warnings.warn(msg, category=FutureWarning)\n"
     ]
    },
    {
     "name": "stdout",
     "output_type": "stream",
     "text": [
      "Error src pca: 0.063\n",
      "Error tgt pca: 0.111\n",
      "Error src sum: 2.508\n",
      "Error tgt sum: 8.173\n"
     ]
    },
    {
     "data": {
      "image/png": "[encoded data removed]",
      "text/plain": [
       "<Figure size 432x288 with 1 Axes>"
      ]
     },
     "metadata": {
      "needs_background": "light"
     },
     "output_type": "display_data"
    },
    {
     "name": "stdout",
     "output_type": "stream",
     "text": [
      "Model : KMM\n"
     ]
    },
    {
     "name": "stderr",
     "output_type": "stream",
     "text": [
      "C:\\Bib\\envs\\statmath38\\lib\\site-packages\\sklearn\\utils\\deprecation.py:103: FutureWarning: Attribute `lambdas_` was deprecated in version 1.0 and will be removed in 1.2. Use `eigenvalues_` instead.\n",
      "  warnings.warn(msg, category=FutureWarning)\n"
     ]
    },
    {
     "name": "stdout",
     "output_type": "stream",
     "text": [
      "Error src pca: 0.065\n",
      "Error tgt pca: 0.118\n",
      "Error src sum: 7.378\n",
      "Error tgt sum: 13.109\n"
     ]
    },
    {
     "data": {
      "image/png": "[encoded data removed]",
      "text/plain": [
       "<Figure size 432x288 with 1 Axes>"
      ]
     },
     "metadata": {
      "needs_background": "light"
     },
     "output_type": "display_data"
    },
    {
     "name": "stdout",
     "output_type": "stream",
     "text": [
      "Model : CORAL\n",
      "Previous covariance difference: 0.108061\n",
      "New covariance difference: 0.000004\n"
     ]
    },
    {
     "name": "stderr",
     "output_type": "stream",
     "text": [
      "C:\\Bib\\envs\\statmath38\\lib\\site-packages\\sklearn\\utils\\deprecation.py:103: FutureWarning: Attribute `lambdas_` was deprecated in version 1.0 and will be removed in 1.2. Use `eigenvalues_` instead.\n",
      "  warnings.warn(msg, category=FutureWarning)\n"
     ]
    },
    {
     "name": "stdout",
     "output_type": "stream",
     "text": [
      "Error src pca: 0.073\n",
      "Error tgt pca: 0.118\n",
      "Error src sum: 5.704\n",
      "Error tgt sum: 13.953\n"
     ]
    },
    {
     "data": {
      "image/png": "[encoded data removed]",
      "text/plain": [
       "<Figure size 432x288 with 1 Axes>"
      ]
     },
     "metadata": {
      "needs_background": "light"
     },
     "output_type": "display_data"
    },
    {
     "name": "stdout",
     "output_type": "stream",
     "text": [
      "Model : DeepCORAL\n"
     ]
    },
    {
     "name": "stderr",
     "output_type": "stream",
     "text": [
      "C:\\Bib\\envs\\statmath38\\lib\\site-packages\\sklearn\\utils\\deprecation.py:103: FutureWarning: Attribute `lambdas_` was deprecated in version 1.0 and will be removed in 1.2. Use `eigenvalues_` instead.\n",
      "  warnings.warn(msg, category=FutureWarning)\n"
     ]
    },
    {
     "name": "stdout",
     "output_type": "stream",
     "text": [
      "Error src pca: 0.066\n",
      "Error tgt pca: 0.110\n",
      "Error src sum: 11.096\n",
      "Error tgt sum: 53.167\n"
     ]
    },
    {
     "data": {
      "image/png": "[encoded data removed]",
      "text/plain": [
       "<Figure size 432x288 with 1 Axes>"
      ]
     },
     "metadata": {
      "needs_background": "light"
     },
     "output_type": "display_data"
    },
    {
     "name": "stdout",
     "output_type": "stream",
     "text": [
      "Model : DANN\n"
     ]
    },
    {
     "name": "stderr",
     "output_type": "stream",
     "text": [
      "C:\\Bib\\envs\\statmath38\\lib\\site-packages\\sklearn\\utils\\deprecation.py:103: FutureWarning: Attribute `lambdas_` was deprecated in version 1.0 and will be removed in 1.2. Use `eigenvalues_` instead.\n",
      "  warnings.warn(msg, category=FutureWarning)\n"
     ]
    },
    {
     "name": "stdout",
     "output_type": "stream",
     "text": [
      "Error src pca: 0.060\n",
      "Error tgt pca: 0.117\n",
      "Error src sum: 2.043\n",
      "Error tgt sum: 6.199\n"
     ]
    },
    {
     "data": {
      "image/png": "[encoded data removed]",
      "text/plain": [
       "<Figure size 432x288 with 1 Axes>"
      ]
     },
     "metadata": {
      "needs_background": "light"
     },
     "output_type": "display_data"
    },
    {
     "name": "stdout",
     "output_type": "stream",
     "text": [
      "Model : MDD\n"
     ]
    },
    {
     "name": "stderr",
     "output_type": "stream",
     "text": [
      "C:\\Bib\\envs\\statmath38\\lib\\site-packages\\sklearn\\utils\\deprecation.py:103: FutureWarning: Attribute `lambdas_` was deprecated in version 1.0 and will be removed in 1.2. Use `eigenvalues_` instead.\n",
      "  warnings.warn(msg, category=FutureWarning)\n"
     ]
    }
   ],
   "source": [
    "np.random.seed(1234)\n",
    "random_states = np.random.choice(2**20, n_models, replace=False)\n",
    "\n",
    "for k in range(n_models):\n",
    "    \n",
    "    print(\"------- Model %i --------\"%k)\n",
    "    \n",
    "    for method in method_list:\n",
    "\n",
    "        print(\"Model : %s\"%method)\n",
    "        \n",
    "        # Set seed\n",
    "        np.random.seed(random_states[k])\n",
    "        tf.random.set_seed(random_states[k])\n",
    "        \n",
    "        # Split source set in a train and test dataset according to the custom split function\n",
    "        # (the test set will be used as validation set)\n",
    "        mastersplit = custom_train_test_split(y_sum[src_index], nfolds=5)\n",
    "        train = mastersplit[0][0]\n",
    "        test = mastersplit[0][1]\n",
    "        \n",
    "        # Define checkpoints to restore the weights with lowest validation error\n",
    "        checkpoint_sum = ModelCheckpoint(\n",
    "               filepath=\"weights_sum_%s.hdf5\"%TARGET,\n",
    "                monitor=\"val_loss\",\n",
    "                save_best_only=True,\n",
    "                save_weights_only=True,\n",
    "                verbose=0)\n",
    "        checkpoint_pca = ModelCheckpoint(\n",
    "               filepath=\"weights_pca_%s.hdf5\"%TARGET,\n",
    "                monitor=\"val_loss\",\n",
    "                save_best_only=True,\n",
    "                save_weights_only=True,\n",
    "                verbose=0)\n",
    "        validation_data_sum = (X[src_index][test], y_sum[src_index][test])\n",
    "        validation_data_pca = (X[src_index][test], y_pca[src_index][test])\n",
    "            \n",
    "        # Fit the model\n",
    "        if method == \"Base\":\n",
    "            model_pca = get_base_model_pca()\n",
    "            model_pca.fit(X[src_index][train],\n",
    "                          y_pca[src_index][train],\n",
    "                          validation_data=validation_data_pca,\n",
    "                          callbacks=[checkpoint_pca],\n",
    "                          **fit_params_pca)\n",
    "\n",
    "            model_sum = get_base_model_sum()\n",
    "            model_sum.fit(X[src_index][train],\n",
    "                          y_sum[src_index][train],\n",
    "                          validation_data=validation_data_sum,\n",
    "                          callbacks=[checkpoint_sum],\n",
    "                          **fit_params_sum)\n",
    "            \n",
    "        if method == \"KLIEP\":\n",
    "            kliep = KLIEP(sigmas=kliep_sigmas, lr=kliep_lr, max_iter=kliep_max_iter)\n",
    "            weights_train = kliep.fit_weights(X[src_index][train], X[tgt_index])\n",
    "            weights_test = kliep.fit_weights(X[src_index][test], X[tgt_index])\n",
    "            \n",
    "            model_pca = get_base_model_pca()\n",
    "            model_pca.fit(X[src_index][train],\n",
    "                          y_pca[src_index][train],\n",
    "                          sample_weight=weights_train,\n",
    "                          validation_data=validation_data_pca+(weights_test,),\n",
    "                          callbacks=[checkpoint_pca],\n",
    "                          **fit_params_pca)\n",
    "\n",
    "            model_sum = get_base_model_sum()\n",
    "            model_sum.fit(X[src_index][train],\n",
    "                          y_sum[src_index][train],\n",
    "                          sample_weight=weights_train,\n",
    "                          validation_data=validation_data_sum+(weights_test,),\n",
    "                          callbacks=[checkpoint_sum],\n",
    "                          **fit_params_sum)\n",
    "            \n",
    "        if method == \"KMM\":\n",
    "            kmm = KMM(gamma=kmm_gamma, verbose=0, max_size=kmm_max_size)\n",
    "            weights_train = kmm.fit_weights(X[src_index][train], X[tgt_index])\n",
    "            weights_test = kmm.fit_weights(X[src_index][test], X[tgt_index])\n",
    "            \n",
    "            model_pca = get_base_model_pca()\n",
    "            model_pca.fit(X[src_index][train],\n",
    "                          y_pca[src_index][train],\n",
    "                          sample_weight=weights_train,\n",
    "                          validation_data=validation_data_pca+(weights_test,),\n",
    "                          callbacks=[checkpoint_pca],\n",
    "                          **fit_params_pca)\n",
    "\n",
    "            model_sum = get_base_model_sum()\n",
    "            model_sum.fit(X[src_index][train],\n",
    "                          y_sum[src_index][train],\n",
    "                          sample_weight=weights_train,\n",
    "                          validation_data=validation_data_sum+(weights_test,),\n",
    "                          callbacks=[checkpoint_sum],\n",
    "                          **fit_params_sum)\n",
    "            \n",
    "        if method == \"CORAL\":\n",
    "            coral = CORAL(lambda_=coral_lambda)\n",
    "            X_enc = coral.fit_transform(X[src_index], X[tgt_index])\n",
    "            \n",
    "            validation_data_sum = (X_enc[test], y_sum[src_index][test])\n",
    "            validation_data_pca = (X_enc[test], y_pca[src_index][test])\n",
    "            \n",
    "            model_pca = get_base_model_pca()\n",
    "            model_pca.fit(X_enc[train],\n",
    "                          y_pca[src_index][train],\n",
    "                          validation_data=validation_data_pca,\n",
    "                          callbacks=[checkpoint_pca],\n",
    "                          **fit_params_pca)\n",
    "\n",
    "            model_sum = get_base_model_sum()\n",
    "            model_sum.fit(X_enc[train],\n",
    "                          y_sum[src_index][train],\n",
    "                          validation_data=validation_data_sum,\n",
    "                          callbacks=[checkpoint_sum],\n",
    "                          **fit_params_sum)\n",
    "             \n",
    "        if method == \"DANN\":\n",
    "            model_pca = DANN(get_encoder(),\n",
    "                             get_task_pca(),\n",
    "                             get_discriminator(),\n",
    "                             loss=custom_loss,\n",
    "                             lambda_=dann_lambda,\n",
    "                             optimizer=Adam(lr_kpca))\n",
    "            model_pca.fit(X[src_index][train], \n",
    "                          y_pca[src_index][train],\n",
    "                          X[tgt_index],\n",
    "                          validation_data=validation_data_pca,\n",
    "                          callbacks=[checkpoint_pca],\n",
    "                          **fit_params_pca)\n",
    "\n",
    "            model_sum = DANN(get_encoder(),\n",
    "                             get_task_sum(),\n",
    "                             get_discriminator(),\n",
    "                             lambda_=dann_lambda,\n",
    "                             optimizer=Adam(lr_scale))\n",
    "            model_sum.fit(X[src_index][train], \n",
    "                          y_sum[src_index][train],\n",
    "                          X[tgt_index],\n",
    "                          validation_data=validation_data_sum,\n",
    "                          callbacks=[checkpoint_sum],\n",
    "                          **fit_params_sum)\n",
    "            \n",
    "        if method == \"DeepCORAL\":\n",
    "            model_pca = DeepCORAL(get_encoder(),\n",
    "                             get_task_pca(),\n",
    "                                  loss=custom_loss,\n",
    "                             lambda_=deepcoral_lambda,\n",
    "                             optimizer=Adam(lr_kpca))\n",
    "            model_pca.fit(X[src_index][train], \n",
    "                          y_pca[src_index][train],\n",
    "                          X[tgt_index],\n",
    "                          validation_data=validation_data_pca,\n",
    "                          callbacks=[checkpoint_pca],\n",
    "                          **fit_params_pca)\n",
    "\n",
    "            model_sum = DeepCORAL(get_encoder(),\n",
    "                             get_task_sum(),\n",
    "                             lambda_=deepcoral_lambda,\n",
    "                             optimizer=Adam(lr_scale))\n",
    "            model_sum.fit(X[src_index][train], \n",
    "                          y_sum[src_index][train],\n",
    "                          X[tgt_index],\n",
    "                          validation_data=validation_data_sum,\n",
    "                          callbacks=[checkpoint_sum],\n",
    "                          **fit_params_sum)\n",
    "            \n",
    "        if method == \"MDD\":\n",
    "            model_pca = MDD(get_encoder(),\n",
    "                             get_task_pca(),\n",
    "                            loss=custom_loss,\n",
    "                             lambda_=mdd_lambda,\n",
    "                             optimizer=Adam(lr_kpca))\n",
    "            model_pca.fit(X[src_index][train], \n",
    "                          y_pca[src_index][train],\n",
    "                          X[tgt_index],\n",
    "                          validation_data=validation_data_pca,\n",
    "                          callbacks=[checkpoint_pca],\n",
    "                          **fit_params_pca)\n",
    "\n",
    "            model_sum = MDD(get_encoder(),\n",
    "                             get_task_sum(),\n",
    "                             lambda_=mdd_lambda,\n",
    "                             optimizer=Adam(lr_scale))\n",
    "            model_sum.fit(X[src_index][train], \n",
    "                          y_sum[src_index][train],\n",
    "                          X[tgt_index],\n",
    "                          validation_data=validation_data_sum,\n",
    "                          callbacks=[checkpoint_sum],\n",
    "                          **fit_params_sum)\n",
    "        \n",
    "        # Reload weights with lowest validation error\n",
    "        model_pca.load_weights(\"weights_pca_%s.hdf5\"%TARGET)\n",
    "        model_sum.load_weights(\"weights_sum_%s.hdf5\"%TARGET)\n",
    "        \n",
    "        # Compute predictions \n",
    "        yp_pca = model_pca.predict(X)\n",
    "        yp_sum = model_sum.predict(X)\n",
    "        yp_conv = convert_y(yp_pca, yp_sum)\n",
    "\n",
    "        # Save predictions\n",
    "        np.save(\"results/%s/%s_pca_%i.npy\"%(TARGET, method, k), yp_pca)\n",
    "        np.save(\"results/%s/%s_sum_%i.npy\"%(TARGET, method, k), yp_sum)\n",
    "        np.save(\"results/%s/%s_conv_%i.npy\"%(TARGET, method, k), yp_conv)\n",
    "            \n",
    "        # Compute Error on kpca and scale predictions\n",
    "        print(\"Error src pca: %.3f\"%mean_absolute_error(yp_pca[src_index], y_pca[src_index]))\n",
    "        print(\"Error tgt pca: %.3f\"%mean_absolute_error(yp_pca[tgt_index], y_pca[tgt_index]))\n",
    "        print(\"Error src sum: %.3f\"%mean_absolute_error(yp_sum[src_index], y_sum[src_index]))\n",
    "        print(\"Error tgt sum: %.3f\"%mean_absolute_error(yp_sum[tgt_index], y_sum[tgt_index]))\n",
    "        \n",
    "        # Plot the predctions of the sum of star formation history\n",
    "        plt.plot(y_true[tgt_index].sum(0), label=\"true\", c=\"C0\", ls=\"--\")\n",
    "        plt.plot(y_conv[tgt_index].sum(0), label=\"pca\")\n",
    "        plt.plot(yp_conv[tgt_index].sum(0), label=method)\n",
    "        plt.legend()\n",
    "        plt.show()"
   ]
  },
  {
   "cell_type": "code",
   "execution_count": null,
   "metadata": {},
   "outputs": [],
   "source": []
  }
 ],
 "metadata": {
  "colab": {
   "collapsed_sections": [
    "TvcKzxxR9tN1"
   ],
   "name": "uda.ipynb",
   "provenance": []
  },
  "kernelspec": {
   "display_name": "statmath38",
   "language": "python",
   "name": "statmath38"
  },
  "language_info": {
   "codemirror_mode": {
    "name": "ipython",
    "version": 3
   },
   "file_extension": ".py",
   "mimetype": "text/x-python",
   "name": "python",
   "nbconvert_exporter": "python",
   "pygments_lexer": "ipython3",
   "version": "3.8.12"
  }
 },
 "nbformat": 4,
 "nbformat_minor": 4
}
